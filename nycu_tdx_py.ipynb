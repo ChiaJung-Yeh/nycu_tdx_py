{
 "cells": [
  {
   "cell_type": "code",
   "execution_count": 2,
   "id": "cda38fc0-9783-4be4-bd28-571fc08db961",
   "metadata": {
    "scrolled": true
   },
   "outputs": [],
   "source": [
    "import pandas as pd\n",
    "from pandas import json_normalize\n",
    "import numpy as np\n",
    "import geopandas as gpd\n",
    "from shapely import wkt\n",
    "from shapely.ops import nearest_points, split, snap\n",
    "from shapely.geometry import Point, LineString, MultiPoint\n",
    "import folium\n",
    "import requests\n",
    "import json\n",
    "from github import Github"
   ]
  },
  {
   "cell_type": "code",
   "execution_count": 39,
   "id": "885340a9",
   "metadata": {},
   "outputs": [
    {
     "ename": "GithubException",
     "evalue": "401 {\"message\": \"Requires authentication\", \"documentation_url\": \"https://docs.github.com/rest/reference/users#get-the-authenticated-user\"}",
     "output_type": "error",
     "traceback": [
      "\u001b[1;31m---------------------------------------------------------------------------\u001b[0m",
      "\u001b[1;31mGithubException\u001b[0m                           Traceback (most recent call last)",
      "\u001b[1;32m~\\AppData\\Local\\Temp\\ipykernel_22648\\3956596588.py\u001b[0m in \u001b[0;36m<module>\u001b[1;34m\u001b[0m\n\u001b[0;32m      1\u001b[0m \u001b[0mg\u001b[0m\u001b[1;33m=\u001b[0m\u001b[0mGithub\u001b[0m\u001b[1;33m(\u001b[0m\u001b[1;34m\"ChiaJung-Yeh\"\u001b[0m\u001b[1;33m,\u001b[0m \u001b[1;34m\"robert13281714\"\u001b[0m\u001b[1;33m)\u001b[0m\u001b[1;33m\u001b[0m\u001b[1;33m\u001b[0m\u001b[0m\n\u001b[1;32m----> 2\u001b[1;33m \u001b[0mg\u001b[0m\u001b[1;33m.\u001b[0m\u001b[0mget_user\u001b[0m\u001b[1;33m(\u001b[0m\u001b[1;33m)\u001b[0m\u001b[1;33m.\u001b[0m\u001b[0mget_repo\u001b[0m\u001b[1;33m(\u001b[0m\u001b[1;34m'NYCU_TDX'\u001b[0m\u001b[1;33m)\u001b[0m\u001b[1;33m\u001b[0m\u001b[1;33m\u001b[0m\u001b[0m\n\u001b[0m",
      "\u001b[1;32m~\\anaconda3\\lib\\site-packages\\github\\AuthenticatedUser.py\u001b[0m in \u001b[0;36mget_repo\u001b[1;34m(self, name)\u001b[0m\n\u001b[0;32m   1068\u001b[0m         \u001b[1;32massert\u001b[0m \u001b[0misinstance\u001b[0m\u001b[1;33m(\u001b[0m\u001b[0mname\u001b[0m\u001b[1;33m,\u001b[0m \u001b[0mstr\u001b[0m\u001b[1;33m)\u001b[0m\u001b[1;33m,\u001b[0m \u001b[0mname\u001b[0m\u001b[1;33m\u001b[0m\u001b[1;33m\u001b[0m\u001b[0m\n\u001b[0;32m   1069\u001b[0m         headers, data = self._requester.requestJsonAndCheck(\n\u001b[1;32m-> 1070\u001b[1;33m             \u001b[1;34m\"GET\"\u001b[0m\u001b[1;33m,\u001b[0m \u001b[1;34mf\"/repos/{self.login}/{name}\"\u001b[0m\u001b[1;33m\u001b[0m\u001b[1;33m\u001b[0m\u001b[0m\n\u001b[0m\u001b[0;32m   1071\u001b[0m         )\n\u001b[0;32m   1072\u001b[0m         return github.Repository.Repository(\n",
      "\u001b[1;32m~\\anaconda3\\lib\\site-packages\\github\\AuthenticatedUser.py\u001b[0m in \u001b[0;36mlogin\u001b[1;34m(self)\u001b[0m\n\u001b[0;32m    229\u001b[0m         \u001b[1;33m:\u001b[0m\u001b[0mtype\u001b[0m\u001b[1;33m:\u001b[0m \u001b[0mstring\u001b[0m\u001b[1;33m\u001b[0m\u001b[1;33m\u001b[0m\u001b[0m\n\u001b[0;32m    230\u001b[0m         \"\"\"\n\u001b[1;32m--> 231\u001b[1;33m         \u001b[0mself\u001b[0m\u001b[1;33m.\u001b[0m\u001b[0m_completeIfNotSet\u001b[0m\u001b[1;33m(\u001b[0m\u001b[0mself\u001b[0m\u001b[1;33m.\u001b[0m\u001b[0m_login\u001b[0m\u001b[1;33m)\u001b[0m\u001b[1;33m\u001b[0m\u001b[1;33m\u001b[0m\u001b[0m\n\u001b[0m\u001b[0;32m    232\u001b[0m         \u001b[1;32mreturn\u001b[0m \u001b[0mself\u001b[0m\u001b[1;33m.\u001b[0m\u001b[0m_login\u001b[0m\u001b[1;33m.\u001b[0m\u001b[0mvalue\u001b[0m\u001b[1;33m\u001b[0m\u001b[1;33m\u001b[0m\u001b[0m\n\u001b[0;32m    233\u001b[0m \u001b[1;33m\u001b[0m\u001b[0m\n",
      "\u001b[1;32m~\\anaconda3\\lib\\site-packages\\github\\GithubObject.py\u001b[0m in \u001b[0;36m_completeIfNotSet\u001b[1;34m(self, value)\u001b[0m\n\u001b[0;32m    295\u001b[0m     \u001b[1;32mdef\u001b[0m \u001b[0m_completeIfNotSet\u001b[0m\u001b[1;33m(\u001b[0m\u001b[0mself\u001b[0m\u001b[1;33m,\u001b[0m \u001b[0mvalue\u001b[0m\u001b[1;33m)\u001b[0m\u001b[1;33m:\u001b[0m\u001b[1;33m\u001b[0m\u001b[1;33m\u001b[0m\u001b[0m\n\u001b[0;32m    296\u001b[0m         \u001b[1;32mif\u001b[0m \u001b[0mvalue\u001b[0m \u001b[1;32mis\u001b[0m \u001b[0mNotSet\u001b[0m\u001b[1;33m:\u001b[0m\u001b[1;33m\u001b[0m\u001b[1;33m\u001b[0m\u001b[0m\n\u001b[1;32m--> 297\u001b[1;33m             \u001b[0mself\u001b[0m\u001b[1;33m.\u001b[0m\u001b[0m_completeIfNeeded\u001b[0m\u001b[1;33m(\u001b[0m\u001b[1;33m)\u001b[0m\u001b[1;33m\u001b[0m\u001b[1;33m\u001b[0m\u001b[0m\n\u001b[0m\u001b[0;32m    298\u001b[0m \u001b[1;33m\u001b[0m\u001b[0m\n\u001b[0;32m    299\u001b[0m     \u001b[1;32mdef\u001b[0m \u001b[0m_completeIfNeeded\u001b[0m\u001b[1;33m(\u001b[0m\u001b[0mself\u001b[0m\u001b[1;33m)\u001b[0m\u001b[1;33m:\u001b[0m\u001b[1;33m\u001b[0m\u001b[1;33m\u001b[0m\u001b[0m\n",
      "\u001b[1;32m~\\anaconda3\\lib\\site-packages\\github\\GithubObject.py\u001b[0m in \u001b[0;36m_completeIfNeeded\u001b[1;34m(self)\u001b[0m\n\u001b[0;32m    299\u001b[0m     \u001b[1;32mdef\u001b[0m \u001b[0m_completeIfNeeded\u001b[0m\u001b[1;33m(\u001b[0m\u001b[0mself\u001b[0m\u001b[1;33m)\u001b[0m\u001b[1;33m:\u001b[0m\u001b[1;33m\u001b[0m\u001b[1;33m\u001b[0m\u001b[0m\n\u001b[0;32m    300\u001b[0m         \u001b[1;32mif\u001b[0m \u001b[1;32mnot\u001b[0m \u001b[0mself\u001b[0m\u001b[1;33m.\u001b[0m\u001b[0m__completed\u001b[0m\u001b[1;33m:\u001b[0m\u001b[1;33m\u001b[0m\u001b[1;33m\u001b[0m\u001b[0m\n\u001b[1;32m--> 301\u001b[1;33m             \u001b[0mself\u001b[0m\u001b[1;33m.\u001b[0m\u001b[0m__complete\u001b[0m\u001b[1;33m(\u001b[0m\u001b[1;33m)\u001b[0m\u001b[1;33m\u001b[0m\u001b[1;33m\u001b[0m\u001b[0m\n\u001b[0m\u001b[0;32m    302\u001b[0m \u001b[1;33m\u001b[0m\u001b[0m\n\u001b[0;32m    303\u001b[0m     \u001b[1;32mdef\u001b[0m \u001b[0m__complete\u001b[0m\u001b[1;33m(\u001b[0m\u001b[0mself\u001b[0m\u001b[1;33m)\u001b[0m\u001b[1;33m:\u001b[0m\u001b[1;33m\u001b[0m\u001b[1;33m\u001b[0m\u001b[0m\n",
      "\u001b[1;32m~\\anaconda3\\lib\\site-packages\\github\\GithubObject.py\u001b[0m in \u001b[0;36m__complete\u001b[1;34m(self)\u001b[0m\n\u001b[0;32m    306\u001b[0m                 \u001b[1;36m400\u001b[0m\u001b[1;33m,\u001b[0m \u001b[1;34m\"Returned object contains no URL\"\u001b[0m\u001b[1;33m,\u001b[0m \u001b[1;32mNone\u001b[0m\u001b[1;33m\u001b[0m\u001b[1;33m\u001b[0m\u001b[0m\n\u001b[0;32m    307\u001b[0m             )\n\u001b[1;32m--> 308\u001b[1;33m         \u001b[0mheaders\u001b[0m\u001b[1;33m,\u001b[0m \u001b[0mdata\u001b[0m \u001b[1;33m=\u001b[0m \u001b[0mself\u001b[0m\u001b[1;33m.\u001b[0m\u001b[0m_requester\u001b[0m\u001b[1;33m.\u001b[0m\u001b[0mrequestJsonAndCheck\u001b[0m\u001b[1;33m(\u001b[0m\u001b[1;34m\"GET\"\u001b[0m\u001b[1;33m,\u001b[0m \u001b[0mself\u001b[0m\u001b[1;33m.\u001b[0m\u001b[0m_url\u001b[0m\u001b[1;33m.\u001b[0m\u001b[0mvalue\u001b[0m\u001b[1;33m)\u001b[0m\u001b[1;33m\u001b[0m\u001b[1;33m\u001b[0m\u001b[0m\n\u001b[0m\u001b[0;32m    309\u001b[0m         \u001b[0mself\u001b[0m\u001b[1;33m.\u001b[0m\u001b[0m_storeAndUseAttributes\u001b[0m\u001b[1;33m(\u001b[0m\u001b[0mheaders\u001b[0m\u001b[1;33m,\u001b[0m \u001b[0mdata\u001b[0m\u001b[1;33m)\u001b[0m\u001b[1;33m\u001b[0m\u001b[1;33m\u001b[0m\u001b[0m\n\u001b[0;32m    310\u001b[0m         \u001b[0mself\u001b[0m\u001b[1;33m.\u001b[0m\u001b[0m__completed\u001b[0m \u001b[1;33m=\u001b[0m \u001b[1;32mTrue\u001b[0m\u001b[1;33m\u001b[0m\u001b[1;33m\u001b[0m\u001b[0m\n",
      "\u001b[1;32m~\\anaconda3\\lib\\site-packages\\github\\Requester.py\u001b[0m in \u001b[0;36mrequestJsonAndCheck\u001b[1;34m(self, verb, url, parameters, headers, input)\u001b[0m\n\u001b[0;32m    396\u001b[0m \u001b[1;33m\u001b[0m\u001b[0m\n\u001b[0;32m    397\u001b[0m     \u001b[1;32mdef\u001b[0m \u001b[0mrequestJsonAndCheck\u001b[0m\u001b[1;33m(\u001b[0m\u001b[0mself\u001b[0m\u001b[1;33m,\u001b[0m \u001b[0mverb\u001b[0m\u001b[1;33m,\u001b[0m \u001b[0murl\u001b[0m\u001b[1;33m,\u001b[0m \u001b[0mparameters\u001b[0m\u001b[1;33m=\u001b[0m\u001b[1;32mNone\u001b[0m\u001b[1;33m,\u001b[0m \u001b[0mheaders\u001b[0m\u001b[1;33m=\u001b[0m\u001b[1;32mNone\u001b[0m\u001b[1;33m,\u001b[0m \u001b[0minput\u001b[0m\u001b[1;33m=\u001b[0m\u001b[1;32mNone\u001b[0m\u001b[1;33m)\u001b[0m\u001b[1;33m:\u001b[0m\u001b[1;33m\u001b[0m\u001b[1;33m\u001b[0m\u001b[0m\n\u001b[1;32m--> 398\u001b[1;33m         return self.__check(\n\u001b[0m\u001b[0;32m    399\u001b[0m             *self.requestJson(\n\u001b[0;32m    400\u001b[0m                 \u001b[0mverb\u001b[0m\u001b[1;33m,\u001b[0m \u001b[0murl\u001b[0m\u001b[1;33m,\u001b[0m \u001b[0mparameters\u001b[0m\u001b[1;33m,\u001b[0m \u001b[0mheaders\u001b[0m\u001b[1;33m,\u001b[0m \u001b[0minput\u001b[0m\u001b[1;33m,\u001b[0m \u001b[0mself\u001b[0m\u001b[1;33m.\u001b[0m\u001b[0m__customConnection\u001b[0m\u001b[1;33m(\u001b[0m\u001b[0murl\u001b[0m\u001b[1;33m)\u001b[0m\u001b[1;33m\u001b[0m\u001b[1;33m\u001b[0m\u001b[0m\n",
      "\u001b[1;32m~\\anaconda3\\lib\\site-packages\\github\\Requester.py\u001b[0m in \u001b[0;36m__check\u001b[1;34m(self, status, responseHeaders, output)\u001b[0m\n\u001b[0;32m    421\u001b[0m         \u001b[0moutput\u001b[0m \u001b[1;33m=\u001b[0m \u001b[0mself\u001b[0m\u001b[1;33m.\u001b[0m\u001b[0m__structuredFromJson\u001b[0m\u001b[1;33m(\u001b[0m\u001b[0moutput\u001b[0m\u001b[1;33m)\u001b[0m\u001b[1;33m\u001b[0m\u001b[1;33m\u001b[0m\u001b[0m\n\u001b[0;32m    422\u001b[0m         \u001b[1;32mif\u001b[0m \u001b[0mstatus\u001b[0m \u001b[1;33m>=\u001b[0m \u001b[1;36m400\u001b[0m\u001b[1;33m:\u001b[0m\u001b[1;33m\u001b[0m\u001b[1;33m\u001b[0m\u001b[0m\n\u001b[1;32m--> 423\u001b[1;33m             \u001b[1;32mraise\u001b[0m \u001b[0mself\u001b[0m\u001b[1;33m.\u001b[0m\u001b[0m__createException\u001b[0m\u001b[1;33m(\u001b[0m\u001b[0mstatus\u001b[0m\u001b[1;33m,\u001b[0m \u001b[0mresponseHeaders\u001b[0m\u001b[1;33m,\u001b[0m \u001b[0moutput\u001b[0m\u001b[1;33m)\u001b[0m\u001b[1;33m\u001b[0m\u001b[1;33m\u001b[0m\u001b[0m\n\u001b[0m\u001b[0;32m    424\u001b[0m         \u001b[1;32mreturn\u001b[0m \u001b[0mresponseHeaders\u001b[0m\u001b[1;33m,\u001b[0m \u001b[0moutput\u001b[0m\u001b[1;33m\u001b[0m\u001b[1;33m\u001b[0m\u001b[0m\n\u001b[0;32m    425\u001b[0m \u001b[1;33m\u001b[0m\u001b[0m\n",
      "\u001b[1;31mGithubException\u001b[0m: 401 {\"message\": \"Requires authentication\", \"documentation_url\": \"https://docs.github.com/rest/reference/users#get-the-authenticated-user\"}"
     ]
    }
   ],
   "source": [
    "\n",
    "g=Github(\"ChiaJung-Yeh\", \"robert13281714\")\n",
    "g.get_user().get_repo('NYCU_TDX')\n"
   ]
  },
  {
   "cell_type": "code",
   "execution_count": null,
   "id": "126a4089-2fd7-4cf6-8e78-058f4da38548",
   "metadata": {},
   "outputs": [],
   "source": [
    "# 下載公共運輸路網圖資\n",
    "# TDX API\n",
    "app_id='robert1328.mg10-5fef152e-ee4f-4cfb'\n",
    "app_key='591fe8aa-6fdc-4c3b-9663-428a62ec8863'\n",
    "\n",
    "def get_token(app_id, app_key):\n",
    "    class Auth():\n",
    "        def __init__(self, app_id, app_key):\n",
    "            self.app_id = app_id\n",
    "            self.app_key = app_key\n",
    "\n",
    "        def get_auth_header(self):\n",
    "            content_type = 'application/x-www-form-urlencoded'\n",
    "            grant_type = 'client_credentials'\n",
    "\n",
    "            return{\n",
    "                'content-type' : content_type,\n",
    "                'grant_type' : grant_type,\n",
    "                'client_id' : self.app_id,\n",
    "                'client_secret' : self.app_key\n",
    "            }\n",
    "\n",
    "    class data():\n",
    "        def __init__(self, app_id, app_key, auth_response):\n",
    "            self.app_id = app_id\n",
    "            self.app_key = app_key\n",
    "            self.auth_response = auth_response\n",
    "\n",
    "        def get_data_header(self):\n",
    "            auth_JSON = json.loads(self.auth_response.text)\n",
    "            access_token = auth_JSON.get('access_token')\n",
    "\n",
    "            return{'authorization': 'Bearer '+access_token}\n",
    "    auth_response=requests.post(auth_url, Auth(app_id, app_key).get_auth_header())\n",
    "    access_token=data(app_id, app_key, auth_response).get_data_header()\n",
    "    return(access_token)"
   ]
  },
  {
   "cell_type": "code",
   "execution_count": null,
   "id": "2d16c5e0",
   "metadata": {},
   "outputs": [],
   "source": [
    "access_token=get_token(app_id, app_key)\n",
    "county=['Taipei','NewTaipei',\"Taoyuan\",\"Taichung\",\"Tainan\",\"Kaohsiung\",\"Keelung\",\"Hsinchu\",\"HsinchuCounty\",\"MiaoliCounty\",\"ChanghuaCounty\",\"NantouCounty\",\"YunlinCounty\",\"ChiayiCounty\",\"Chiayi\",\"PingtungCounty\",\"YilanCounty\",\"HualienCounty\",\"TaitungCounty\",\"KinmenCounty\",\"PenghuCounty\",\"Intercity\"]"
   ]
  },
  {
   "cell_type": "code",
   "execution_count": null,
   "id": "2a8ccc25",
   "metadata": {},
   "outputs": [],
   "source": [
    "def Bus_Route(access_token, county):\n",
    "    url=\"https://tdx.transportdata.tw/api/basic/v2/Bus/Route/City/\"+county+\"?&%24format=JSON\"\n",
    "    data_response=requests.get(url, headers=access_token)\n",
    "    js_data=json.loads(data_response.text)\n",
    "    bus_route=pd.DataFrame.from_dict(js_data, orient=\"columns\")\n",
    "    \n",
    "    bus_info=bus_route.loc[:,['RouteUID','RouteID','RouteName','BusRouteType','DepartureStopNameZh','DestinationStopNameZh']]\n",
    "    subroutenum=[len(bus_route.SubRoutes[i]) for i in range(len(bus_route))]\n",
    "    \n",
    "    bus_subroute=dict()\n",
    "    label_all=['SubRouteUID','SubRouteID','SubRouteName','Direction']\n",
    "    for label_id in label_all:\n",
    "        if label_id in ['SubRouteName']:\n",
    "            bus_subroute[label_id]=[bus_route.SubRoutes[i][j][label_id]['Zh_tw'] if label_id in bus_route.SubRoutes[i][j] else None for i in range(len(bus_route)) for j in range(subroutenum[i])]\n",
    "        else:\n",
    "            bus_subroute[label_id]=[bus_route.SubRoutes[i][j][label_id] if label_id in bus_route.SubRoutes[i][j] else None for i in range(len(bus_route)) for j in range(subroutenum[i])]\n",
    "\n",
    "    bus_info=bus_info.iloc[np.repeat(np.arange(len(bus_info)), subroutenum)].reset_index(drop=True)\n",
    "    bus_route=pd.concat([bus_info, pd.DataFrame(bus_subroute)], axis=1)\n",
    "    bus_route.RouteName=[bus_route.RouteName[i]['Zh_tw'] for i in range(len(bus_route))]\n",
    "    return(bus_route)\n",
    "\n",
    "\n",
    "\n",
    "def Bus_Shape(access_token, county):\n",
    "    url=\"https://tdx.transportdata.tw/api/basic/v2/Bus/Shape/City/\"+county+\"?&%24format=JSON\"\n",
    "    data_response=requests.get(url, headers=access_token)\n",
    "    js_data=json.loads(data_response.text)\n",
    "    bus_shape=pd.DataFrame.from_dict(js_data, orient=\"columns\")\n",
    "    \n",
    "    bus_shape.RouteName=[bus_shape.RouteName[i]['Zh_tw'] if len(bus_shape.RouteName[i])!=0  else None for i in range(len(bus_shape))]\n",
    "    bus_shape.SubRouteName=[bus_shape.SubRouteName[i]['Zh_tw'] if len(bus_shape.SubRouteName[i])!=0  else None for i in range(len(bus_shape))]\n",
    "    bus_shape=bus_shape.loc[:,['RouteUID','RouteID','RouteName','SubRouteUID','SubRouteID','SubRouteName','Geometry']].rename(columns={'Geometry':'geometry'})\n",
    "    bus_shape['geometry']=bus_shape['geometry'].apply(wkt.loads)\n",
    "    bus_shape=gpd.GeoDataFrame(bus_shape, crs='epsg:4326')\n",
    "    return(bus_shape)\n",
    "\n",
    "\n"
   ]
  },
  {
   "cell_type": "code",
   "execution_count": null,
   "id": "4e836957",
   "metadata": {},
   "outputs": [],
   "source": [
    "bus_shape=Bus_Shape(access_token, \"Taipei\")\n",
    "bus_shape"
   ]
  },
  {
   "cell_type": "code",
   "execution_count": null,
   "id": "cf8f7336",
   "metadata": {},
   "outputs": [],
   "source": [
    "#---TDX 介接公車路線---#\n",
    "county=['Taipei','NewTaipei',\"Taoyuan\",\"Taichung\",\"Tainan\",\"Kaohsiung\",\"Keelung\",\"Hsinchu\",\"HsinchuCounty\",\"MiaoliCounty\",\"ChanghuaCounty\",\"NantouCounty\",\"YunlinCounty\",\"ChiayiCounty\",\"Chiayi\",\"PingtungCounty\",\"YilanCounty\",\"HualienCounty\",\"TaitungCounty\",\"KinmenCounty\",\"PenghuCounty\",\"Intercity\"]\n",
    "all_url=[]\n",
    "for i in county[0:-1]:\n",
    "    all_url.append(\"https://tdx.transportdata.tw/api/basic/v2/Bus/Shape/City/\"+i+\"?&%24format=JSON\")\n",
    "all_url.append(\"https://tdx.transportdata.tw/api/basic/v2/Bus/Shape/InterCity?&$format=JSON\")\n",
    "\n",
    "bus_shape=pd.DataFrame()\n",
    "for i in all_url:\n",
    "    d=data(app_id, app_key, auth_response)\n",
    "    data_response=requests.get(i, headers=access_token)\n",
    "\n",
    "    js_data=json.loads(data_response.text)\n",
    "    bus_shape_temp=pd.DataFrame.from_dict(js_data, orient=\"columns\")\n",
    "    # pd.DataFrame.from_dict(json.loads(rail_shape_temp.RouteName.to_json()), orient=\"index\")\n",
    "    bus_shape_temp=bus_shape_temp.loc[:,['RouteUID','Geometry']].rename(columns={'Geometry':'geometry'})\n",
    "    bus_shape_temp=gpd.GeoDataFrame(pd.concat([bus_shape_temp['RouteUID'], bus_shape_temp['geometry'].apply(wkt.loads)], axis=1), crs='epsg:4326')\n",
    "    bus_shape=pd.concat([bus_shape, bus_shape_temp]).reset_index(drop=True)\n",
    "bus_shape=bus_shape.to_crs('EPSG:3826')\n",
    "\n",
    "county=['Taipei','NewTaipei',\"Taoyuan\",\"Taichung\",\"Tainan\",\"Kaohsiung\",\"Keelung\",\"Hsinchu\",\"HsinchuCounty\",\"MiaoliCounty\",\"ChanghuaCounty\",\"NantouCounty\",\"YunlinCounty\",\"ChiayiCounty\",\"Chiayi\",\"PingtungCounty\",\"YilanCounty\",\"HualienCounty\",\"TaitungCounty\",\"KinmenCounty\",\"PenghuCounty\",\"Intercity\"]\n",
    "all_url=[]\n",
    "for i in county[0:-1]:\n",
    "    all_url.append(\"https://tdx.transportdata.tw/api/basic/v2/Bus/Route/City/\"+i+\"?&%24format=JSON\")\n",
    "all_url.append(\"https://tdx.transportdata.tw/api/basic/v2/Bus/Route/InterCity?%24format=JSON\")\n",
    "\n",
    "bus_route=pd.DataFrame()\n",
    "for i in all_url:\n",
    "    d=data(app_id, app_key, auth_response)\n",
    "    data_response=requests.get(i, headers=d.get_data_header())\n",
    "\n",
    "    js_data=json.loads(data_response.text)\n",
    "    bus_route_temp=pd.DataFrame.from_dict(js_data, orient=\"columns\")\n",
    "\n",
    "    bus_route_temp=bus_route_temp.loc[:,['RouteUID','BusRouteType']].drop_duplicates().reset_index(drop=True)\n",
    "    bus_route=pd.concat([bus_route, bus_route_temp]).reset_index(drop=True)\n",
    "\n",
    "bus_shape=bus_shape.merge(bus_route, on='RouteUID', how='left')\n",
    "bus_shape=bus_shape[~bus_shape.BusRouteType.isna()].reset_index(drop=True)"
   ]
  }
 ],
 "metadata": {
  "kernelspec": {
   "display_name": "Python 3 (ipykernel)",
   "language": "python",
   "name": "python3"
  },
  "language_info": {
   "codemirror_mode": {
    "name": "ipython",
    "version": 3
   },
   "file_extension": ".py",
   "mimetype": "text/x-python",
   "name": "python",
   "nbconvert_exporter": "python",
   "pygments_lexer": "ipython3",
   "version": "3.9.13"
  }
 },
 "nbformat": 4,
 "nbformat_minor": 5
}
